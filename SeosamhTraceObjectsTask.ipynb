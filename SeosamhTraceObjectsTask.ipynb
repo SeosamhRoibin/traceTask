{
 "cells": [
  {
   "cell_type": "markdown",
   "metadata": {
    "tags": []
   },
   "source": [
    "# Trace Objects Task\n",
    "\n",
    "Seosamh O Roibin"
   ]
  },
  {
   "cell_type": "markdown",
   "metadata": {
    "tags": []
   },
   "source": [
    "Beginning with importation of geopandas "
   ]
  },
  {
   "cell_type": "code",
   "execution_count": 72,
   "metadata": {},
   "outputs": [],
   "source": [
    "import pandas\n",
    "import os\n",
    "import geopandas as gpd\n",
    "import matplotlib.pyplot as plt\n",
    "import numpy as np\n",
    "import json\n",
    "import networkx as nx\n",
    "from networkx.readwrite import json_graph"
   ]
  },
  {
   "cell_type": "markdown",
   "metadata": {},
   "source": [
    "Reading in shape file for cables and joints"
   ]
  },
  {
   "cell_type": "code",
   "execution_count": 4,
   "metadata": {},
   "outputs": [],
   "source": [
    "cables = gpd.read_file('./Sample_Data/cables.shp')\n",
    "joints = gpd.read_file('./Sample_Data/joints.shp')"
   ]
  },
  {
   "cell_type": "markdown",
   "metadata": {},
   "source": [
    "Visualise the cables and joints as graph "
   ]
  },
  {
   "cell_type": "code",
   "execution_count": 5,
   "metadata": {},
   "outputs": [
    {
     "data": {
      "text/plain": [
       "Text(0.5, 1.0, 'Visualisation of Cables & Joints')"
      ]
     },
     "execution_count": 5,
     "metadata": {},
     "output_type": "execute_result"
    },
    {
     "data": {
      "text/plain": [
       "<Figure size 432x288 with 0 Axes>"
      ]
     },
     "metadata": {},
     "output_type": "display_data"
    },
    {
     "data": {
      "image/png": "[encoded data removed]",
      "text/plain": [
       "<Figure size 432x288 with 1 Axes>"
      ]
     },
     "metadata": {
      "needs_background": "light"
     },
     "output_type": "display_data"
    }
   ],
   "source": [
    "fig = plt.figure()\n",
    "ax = cables.plot()  # Cables are the connections between the nodes\n",
    "fig = joints.plot(ax = ax, color='red')  # Joints refer to the nodes \n",
    "fig.set_xlabel('x')\n",
    "fig.set_ylabel(\"y\")\n",
    "fig.set_title('Visualisation of Cables & Joints')"
   ]
  },
  {
   "cell_type": "markdown",
   "metadata": {},
   "source": [
    "Would like to take some of the distractions away from the data to work with, so will run selection operation on the columns in the data with which I will be working"
   ]
  },
  {
   "cell_type": "code",
   "execution_count": 10,
   "metadata": {},
   "outputs": [
    {
     "data": {
      "text/html": [
       "<div>\n",
       "<style scoped>\n",
       "    .dataframe tbody tr th:only-of-type {\n",
       "        vertical-align: middle;\n",
       "    }\n",
       "\n",
       "    .dataframe tbody tr th {\n",
       "        vertical-align: top;\n",
       "    }\n",
       "\n",
       "    .dataframe thead th {\n",
       "        text-align: right;\n",
       "    }\n",
       "</style>\n",
       "<table border=\"1\" class=\"dataframe\">\n",
       "  <thead>\n",
       "    <tr style=\"text-align: right;\">\n",
       "      <th></th>\n",
       "      <th>OBJECTID</th>\n",
       "      <th>GlobalID</th>\n",
       "      <th>o_AEND</th>\n",
       "      <th>o_BEND</th>\n",
       "      <th>geometry</th>\n",
       "    </tr>\n",
       "  </thead>\n",
       "  <tbody>\n",
       "    <tr>\n",
       "      <th>0</th>\n",
       "      <td>1</td>\n",
       "      <td>{360BB121-85E1-40B7-AFF4-259A67F247B1}</td>\n",
       "      <td>WSJUR_20_IJ_45</td>\n",
       "      <td>f8f4f87c-dc5b-47b9-bd0b-8339d897c0b3</td>\n",
       "      <td>LINESTRING (157409.666 677539.484, 157337.069 ...</td>\n",
       "    </tr>\n",
       "    <tr>\n",
       "      <th>1</th>\n",
       "      <td>2</td>\n",
       "      <td>{1BDDDD35-2D54-4A74-92C2-4B4EED581120}</td>\n",
       "      <td>f8f4f87c-dc5b-47b9-bd0b-8339d897c0b3</td>\n",
       "      <td>101bcba8-19b7-401e-9fb0-f10a262f1755</td>\n",
       "      <td>LINESTRING (156216.758 677796.712, 156157.279 ...</td>\n",
       "    </tr>\n",
       "    <tr>\n",
       "      <th>2</th>\n",
       "      <td>3</td>\n",
       "      <td>{73684DA5-3E47-4239-BA54-1B46E8E63C6E}</td>\n",
       "      <td>101bcba8-19b7-401e-9fb0-f10a262f1755</td>\n",
       "      <td>a8760718-4e76-4f7b-b381-fdc2fbec79b9</td>\n",
       "      <td>LINESTRING (155217.926 678598.927, 155149.929 ...</td>\n",
       "    </tr>\n",
       "    <tr>\n",
       "      <th>3</th>\n",
       "      <td>4</td>\n",
       "      <td>{B658B86A-22D2-4C85-9626-7A159869CE9B}</td>\n",
       "      <td>a8760718-4e76-4f7b-b381-fdc2fbec79b9</td>\n",
       "      <td>071cbcd1-9c41-4024-930e-8009ef47751e</td>\n",
       "      <td>LINESTRING (154091.311 679346.779, 154080.430 ...</td>\n",
       "    </tr>\n",
       "    <tr>\n",
       "      <th>4</th>\n",
       "      <td>5</td>\n",
       "      <td>{E508ED26-B9BC-428E-AEE0-DABC2A1CD7C4}</td>\n",
       "      <td>071cbcd1-9c41-4024-930e-8009ef47751e</td>\n",
       "      <td>10327ac8-29a9-466f-a01a-c81497e37b3b</td>\n",
       "      <td>LINESTRING (153050.478 679362.652, 153003.387 ...</td>\n",
       "    </tr>\n",
       "  </tbody>\n",
       "</table>\n",
       "</div>"
      ],
      "text/plain": [
       "   OBJECTID                                GlobalID  \\\n",
       "0         1  {360BB121-85E1-40B7-AFF4-259A67F247B1}   \n",
       "1         2  {1BDDDD35-2D54-4A74-92C2-4B4EED581120}   \n",
       "2         3  {73684DA5-3E47-4239-BA54-1B46E8E63C6E}   \n",
       "3         4  {B658B86A-22D2-4C85-9626-7A159869CE9B}   \n",
       "4         5  {E508ED26-B9BC-428E-AEE0-DABC2A1CD7C4}   \n",
       "\n",
       "                                 o_AEND                                o_BEND  \\\n",
       "0                        WSJUR_20_IJ_45  f8f4f87c-dc5b-47b9-bd0b-8339d897c0b3   \n",
       "1  f8f4f87c-dc5b-47b9-bd0b-8339d897c0b3  101bcba8-19b7-401e-9fb0-f10a262f1755   \n",
       "2  101bcba8-19b7-401e-9fb0-f10a262f1755  a8760718-4e76-4f7b-b381-fdc2fbec79b9   \n",
       "3  a8760718-4e76-4f7b-b381-fdc2fbec79b9  071cbcd1-9c41-4024-930e-8009ef47751e   \n",
       "4  071cbcd1-9c41-4024-930e-8009ef47751e  10327ac8-29a9-466f-a01a-c81497e37b3b   \n",
       "\n",
       "                                            geometry  \n",
       "0  LINESTRING (157409.666 677539.484, 157337.069 ...  \n",
       "1  LINESTRING (156216.758 677796.712, 156157.279 ...  \n",
       "2  LINESTRING (155217.926 678598.927, 155149.929 ...  \n",
       "3  LINESTRING (154091.311 679346.779, 154080.430 ...  \n",
       "4  LINESTRING (153050.478 679362.652, 153003.387 ...  "
      ]
     },
     "execution_count": 10,
     "metadata": {},
     "output_type": "execute_result"
    }
   ],
   "source": [
    "filtered_cables_data = cables[['OBJECTID', 'GlobalID', 'o_AEND', 'o_BEND', 'geometry']]\n",
    "filtered_cables_data.head()"
   ]
  },
  {
   "cell_type": "code",
   "execution_count": 79,
   "metadata": {},
   "outputs": [
    {
     "data": {
      "text/html": [
       "<div>\n",
       "<style scoped>\n",
       "    .dataframe tbody tr th:only-of-type {\n",
       "        vertical-align: middle;\n",
       "    }\n",
       "\n",
       "    .dataframe tbody tr th {\n",
       "        vertical-align: top;\n",
       "    }\n",
       "\n",
       "    .dataframe thead th {\n",
       "        text-align: right;\n",
       "    }\n",
       "</style>\n",
       "<table border=\"1\" class=\"dataframe\">\n",
       "  <thead>\n",
       "    <tr style=\"text-align: right;\">\n",
       "      <th></th>\n",
       "      <th>OBJECTID</th>\n",
       "      <th>o_ID</th>\n",
       "      <th>o_PARENT_I</th>\n",
       "      <th>GlobalID</th>\n",
       "      <th>spec</th>\n",
       "      <th>geometry</th>\n",
       "    </tr>\n",
       "  </thead>\n",
       "  <tbody>\n",
       "    <tr>\n",
       "      <th>0</th>\n",
       "      <td>1</td>\n",
       "      <td>WSJUR_20_CBT_L21_1</td>\n",
       "      <td>WSJUR_20_SN_4</td>\n",
       "      <td>{2E88DC1C-9E23-4417-B882-21695DBCA0E3}</td>\n",
       "      <td>CBT4</td>\n",
       "      <td>POINT (159443.629 678545.185)</td>\n",
       "    </tr>\n",
       "    <tr>\n",
       "      <th>1</th>\n",
       "      <td>2</td>\n",
       "      <td>WSJUR_20_IJ_42</td>\n",
       "      <td>6079967f-9d89-4681-ac15-73e98f96406c</td>\n",
       "      <td>{2F628C39-C336-452C-B0CD-8741B0E88458}</td>\n",
       "      <td>SMALL_NODE_AS_IJ</td>\n",
       "      <td>POINT (159147.714 678640.843)</td>\n",
       "    </tr>\n",
       "    <tr>\n",
       "      <th>2</th>\n",
       "      <td>3</td>\n",
       "      <td>WSJUR_20_CBT_16_1</td>\n",
       "      <td>WSJUR_20_IJ_44</td>\n",
       "      <td>{FEC3CD67-40DD-4724-8EF2-F4E265AE91EC}</td>\n",
       "      <td>CBT4</td>\n",
       "      <td>POINT (158484.142 677143.085)</td>\n",
       "    </tr>\n",
       "    <tr>\n",
       "      <th>3</th>\n",
       "      <td>4</td>\n",
       "      <td>WSJUR_20_IJ_35</td>\n",
       "      <td>WSJUR_20_IJ_42</td>\n",
       "      <td>{4D72CFC9-356E-49EF-908E-2467A5DAE061}</td>\n",
       "      <td>SMALL_NODE_AS_IJ</td>\n",
       "      <td>POINT (158849.904 679792.741)</td>\n",
       "    </tr>\n",
       "    <tr>\n",
       "      <th>4</th>\n",
       "      <td>5</td>\n",
       "      <td>WSJUR_20_SN_4</td>\n",
       "      <td>None</td>\n",
       "      <td>{06BE6B84-61F1-44B3-A712-4A7FADFAAEDC}</td>\n",
       "      <td>SMALL_NODE_AS_SPN</td>\n",
       "      <td>POINT (159401.932 678507.163)</td>\n",
       "    </tr>\n",
       "  </tbody>\n",
       "</table>\n",
       "</div>"
      ],
      "text/plain": [
       "   OBJECTID                o_ID                            o_PARENT_I  \\\n",
       "0         1  WSJUR_20_CBT_L21_1                         WSJUR_20_SN_4   \n",
       "1         2      WSJUR_20_IJ_42  6079967f-9d89-4681-ac15-73e98f96406c   \n",
       "2         3   WSJUR_20_CBT_16_1                        WSJUR_20_IJ_44   \n",
       "3         4      WSJUR_20_IJ_35                        WSJUR_20_IJ_42   \n",
       "4         5       WSJUR_20_SN_4                                  None   \n",
       "\n",
       "                                 GlobalID               spec  \\\n",
       "0  {2E88DC1C-9E23-4417-B882-21695DBCA0E3}               CBT4   \n",
       "1  {2F628C39-C336-452C-B0CD-8741B0E88458}   SMALL_NODE_AS_IJ   \n",
       "2  {FEC3CD67-40DD-4724-8EF2-F4E265AE91EC}               CBT4   \n",
       "3  {4D72CFC9-356E-49EF-908E-2467A5DAE061}   SMALL_NODE_AS_IJ   \n",
       "4  {06BE6B84-61F1-44B3-A712-4A7FADFAAEDC}  SMALL_NODE_AS_SPN   \n",
       "\n",
       "                        geometry  \n",
       "0  POINT (159443.629 678545.185)  \n",
       "1  POINT (159147.714 678640.843)  \n",
       "2  POINT (158484.142 677143.085)  \n",
       "3  POINT (158849.904 679792.741)  \n",
       "4  POINT (159401.932 678507.163)  "
      ]
     },
     "execution_count": 79,
     "metadata": {},
     "output_type": "execute_result"
    }
   ],
   "source": [
    "filtered_joints_data = joints[['OBJECTID', 'o_ID', 'o_PARENT_I', 'GlobalID', 'spec', 'geometry']]\n",
    "filtered_joints_data.head()"
   ]
  },
  {
   "cell_type": "markdown",
   "metadata": {},
   "source": [
    "Lets interpret the data \n",
    "We have cables where AEND and BEND correspond with o_ID in JOINTS. \n",
    "In order to complete the task:\n",
    "1) Take Node (Starting From WSJUR_20_SN_4)\n",
    "2) Look up o_AEND in Cables WHERE o_AEND == o_ID\n",
    "3) Using o_BEND Value in Cables See if Exists a value equal in o_AEND (This means theres a connection) \n",
    "4) If this is null, the connection ends. we return\n",
    "5) We use dictionary structure, so perhaps we can use the parent node as our key and then push the children as values\n",
    "\n",
    "I then decided to change back into a dataframe so that I could create an edge list for use in networkx. (Not necessary but wanted to show I can manipulate data) Needed to change columns name, transpose and reset the index. \n",
    "\n",
    "I then looped through the rows of the dataframe: now this is where I came to an issue, I was not able to find a way of using networkx to accept a scenario where the children is equal to null: so the edge list is comprised of only relations e.g. parent -> child; never an instance of parent -> [] (No descendents) which probably makes the answer I get wrong. \n",
    "\n",
    "I then use the pandas edge list function in networkx to convert it into a directed graph... I believe this is the correct graph to use based on my understanding of the data because we have an A-END and a B-END.  \n",
    "\n",
    "We set the root_id to be equal to first entry (WSJUR_20_SN_4) \n",
    "\n",
    "I then use the json_graph.tree_data to take the created tree and convert into a json object. \n",
    "\n",
    "I investigated my results afterwards on QGIS and I am unsure if I have interpreted the data correctly and whether or not the extrapolated result is correct: I then perhaps my recursive function may not have taken into account the directed nature of the graph analysed. \n",
    "\n",
    "\n"
   ]
  },
  {
   "cell_type": "code",
   "execution_count": 77,
   "metadata": {},
   "outputs": [
    {
     "name": "stdout",
     "output_type": "stream",
     "text": [
      "{'id': 'WSJUR_20_SN_4', 'children': [{'id': '6079967f-9d89-4681-ac15-73e98f96406c', 'children': [{'id': 'WSJUR_20_IJ_42', 'children': [{'id': 'WSJUR_20_IJ_35', 'children': [{'id': 'f614a73b-a59c-4ec4-82f7-c1f0a949c87d', 'children': [{'id': 'e841fbb7-5a33-4dff-b296-7d0187c7c9e2', 'children': [{'id': 'd7e8a93e-51f2-47f3-9b86-cbcb20661a73', 'children': [{'id': '2ded1da0-aafd-4d00-b4d3-9535fbe23fb1', 'children': [{'id': '1e539e0f-bb3f-427f-a4b5-811b3bcdcafd', 'children': [{'id': 'd3240ad0-47b8-423a-b609-6141e2c99665', 'children': [{'id': '0c381dd2-9bcc-43ed-b7cd-e23c94368cb0', 'children': [{'id': 'e34bef71-36e6-4a83-a09f-bf69d847ec79', 'children': [{'id': '1458f2da-bff4-4f12-acdf-36f2d9746025'}]}]}]}]}]}]}]}]}]}]}, {'id': 'WSJUR_20_CBT_14_1'}, {'id': 'WSJUR_20_IJ_44', 'children': [{'id': 'WSJUR_20_CBT_16_1'}, {'id': 'WSJUR_20_IJ_45', 'children': [{'id': 'f8f4f87c-dc5b-47b9-bd0b-8339d897c0b3', 'children': [{'id': '101bcba8-19b7-401e-9fb0-f10a262f1755', 'children': [{'id': 'a8760718-4e76-4f7b-b381-fdc2fbec79b9', 'children': [{'id': '071cbcd1-9c41-4024-930e-8009ef47751e', 'children': [{'id': '10327ac8-29a9-466f-a01a-c81497e37b3b', 'children': [{'id': '1f8b3893-6125-40ef-9365-f7c86a8fd543', 'children': [{'id': 'f8fdbb51-e8ef-4be7-8f99-b038462137da'}]}]}]}]}]}]}]}]}]}, {'id': 'WSJUR_20_CBT_L21_1'}, {'id': 'WSJUR_20_CBT_L20_1'}]}\n"
     ]
    }
   ],
   "source": [
    "parent_child_relations = {}\n",
    "extended_children_relations = {} \n",
    "\n",
    "def get_parent_child_relations(point):\n",
    "    parent_point= cables[cables[\"o_AEND\"] == point]\n",
    "    if (parent_point.empty):\n",
    "        parent_child_relations[point] = [\"\"]\n",
    "        return\n",
    "    parent = parent_point[\"o_AEND\"].head(1).values[0]\n",
    "    children = parent_point[\"o_BEND\"].values.tolist()\n",
    "    parent_child_relations[parent] = [children]\n",
    "    for point in children:\n",
    "        get_parent_child_relations(point)\n",
    "\n",
    "start_point = \"WSJUR_20_SN_4\"\n",
    "get_parent_child_relations(start_point)\n",
    "\n",
    "#cleansing the data by moving it from dictionary into dataframe, transposition and resetting the index and renaming the columns as per the parameters of the task \n",
    "df = pandas.DataFrame(data=parent_child_relations).T.reset_index()\n",
    "df.rename(columns= {\"index\": \"Name\", 0: \"Children\"}, inplace=True)\n",
    "\n",
    "\n",
    "for index, row in df.iterrows():\n",
    "   # if row['Children'] == \"\":\n",
    "      #  parent_child_list.append([row['Name'], \" \"])\n",
    "    for child in row['Children']:\n",
    "     parent_child_list.append([row['Name'], child])\n",
    "\n",
    "edge_list = pandas.DataFrame(parent_child_list, columns = ['Name', 'children'])\n",
    "\n",
    "# convert edge list in pandas over to network graph \n",
    "g = nx.from_pandas_edgelist(edge_list, 'Name', 'children', create_using=nx.DiGraph())\n",
    "# asserting the first entry in df as root \n",
    "root_id = edge_list.loc[0, 'Name']    \n",
    "out = [nx.tree_data(g, root_id, ident='Name', children='children')]\n",
    "data = json_graph.tree_data(g,root=root_id)\n",
    "print(data)\n"
   ]
  },
  {
   "cell_type": "code",
   "execution_count": null,
   "metadata": {},
   "outputs": [],
   "source": [
    "\n"
   ]
  },
  {
   "cell_type": "code",
   "execution_count": null,
   "metadata": {},
   "outputs": [],
   "source": []
  }
 ],
 "metadata": {
  "kernelspec": {
   "display_name": "Python 3 (ipykernel)",
   "language": "python",
   "name": "python3"
  },
  "language_info": {
   "codemirror_mode": {
    "name": "ipython",
    "version": 3
   },
   "file_extension": ".py",
   "mimetype": "text/x-python",
   "name": "python",
   "nbconvert_exporter": "python",
   "pygments_lexer": "ipython3",
   "version": "3.8.10"
  }
 },
 "nbformat": 4,
 "nbformat_minor": 4
}
